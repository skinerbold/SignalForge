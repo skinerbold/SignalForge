{
  "nbformat": 4,
  "nbformat_minor": 0,
  "metadata": {
    "colab": {
      "provenance": []
    },
    "kernelspec": {
      "name": "python3",
      "display_name": "Python 3"
    },
    "language_info": {
      "name": "python"
    }
  },
  "cells": [
    {
      "cell_type": "markdown",
      "source": [
        "Conversão de sistemas com coeficientes numéricos entre função de transferência e representação em espaço de estados."
      ],
      "metadata": {
        "id": "AAHVgXEJI-vI"
      }
    },
    {
      "cell_type": "code",
      "source": [
        "import scipy.signal\n",
        "\n",
        "G = scipy.signal.lti(1, [1, 1])\n",
        "G"
      ],
      "metadata": {
        "colab": {
          "base_uri": "https://localhost:8080/"
        },
        "id": "xtWYdJwqJFC-",
        "outputId": "b9d9a6ff-84c6-4133-d65b-7cfdbc2d46c7"
      },
      "execution_count": null,
      "outputs": [
        {
          "output_type": "execute_result",
          "data": {
            "text/plain": [
              "TransferFunctionContinuous(\n",
              "array([1.]),\n",
              "array([1., 1.]),\n",
              "dt: None\n",
              ")"
            ]
          },
          "metadata": {},
          "execution_count": 23
        }
      ]
    },
    {
      "cell_type": "code",
      "source": [
        "#Este objeto nos permite acessar o numerador e o denominador\n",
        "G.num, G.den"
      ],
      "metadata": {
        "colab": {
          "base_uri": "https://localhost:8080/"
        },
        "id": "fnRW-3UJJMe8",
        "outputId": "db8a928a-fd73-44eb-8ab6-c74cf7ca7404"
      },
      "execution_count": null,
      "outputs": [
        {
          "output_type": "execute_result",
          "data": {
            "text/plain": [
              "(array([1.]), array([1., 1.]))"
            ]
          },
          "metadata": {},
          "execution_count": 24
        }
      ]
    },
    {
      "cell_type": "code",
      "source": [
        "#Para converter para espaço de estados, podemos usar o método .to_ss()\n",
        "Gss = G.to_ss()\n",
        "Gss.A, Gss.B, Gss.C, Gss.D"
      ],
      "metadata": {
        "colab": {
          "base_uri": "https://localhost:8080/"
        },
        "id": "cEH3q6o7JNEm",
        "outputId": "e88b46a8-e550-4b28-8fcf-1f1b7ae4cd70"
      },
      "execution_count": null,
      "outputs": [
        {
          "output_type": "execute_result",
          "data": {
            "text/plain": [
              "(array([[-1.]]), array([[1.]]), array([[1.]]), array([[0.]]))"
            ]
          },
          "metadata": {},
          "execution_count": 25
        }
      ]
    },
    {
      "cell_type": "code",
      "source": [
        "#Podemos construir outro objeto usando as matrizes de espaço de estados em vez da forma de Laplace\n",
        "G2ss = scipy.signal.lti(Gss.A, Gss.B, Gss.C, Gss.D)\n",
        "G2ss"
      ],
      "metadata": {
        "colab": {
          "base_uri": "https://localhost:8080/"
        },
        "id": "5l4bILknJNMp",
        "outputId": "3fb28b48-1f29-44ab-cd16-04c09378703f"
      },
      "execution_count": null,
      "outputs": [
        {
          "output_type": "execute_result",
          "data": {
            "text/plain": [
              "StateSpaceContinuous(\n",
              "array([[-1.]]),\n",
              "array([[1.]]),\n",
              "array([[1.]]),\n",
              "array([[0.]]),\n",
              "dt: None\n",
              ")"
            ]
          },
          "metadata": {},
          "execution_count": 26
        }
      ]
    },
    {
      "cell_type": "code",
      "source": [
        "#Podemos converter para a forma de função de transferência usando .to_tf()\n",
        "G2 = G2ss.to_tf()\n",
        "\n",
        "#Agora podemos acessar novamente o numerador e o denominador:\n",
        "G2.num, G2.den"
      ],
      "metadata": {
        "colab": {
          "base_uri": "https://localhost:8080/"
        },
        "id": "0FZX4QRPJNTL",
        "outputId": "358d4725-f283-45c6-9488-1e78c75255df"
      },
      "execution_count": null,
      "outputs": [
        {
          "output_type": "execute_result",
          "data": {
            "text/plain": [
              "(array([1.]), array([1., 1.]))"
            ]
          },
          "metadata": {},
          "execution_count": 27
        }
      ]
    }
  ]
}