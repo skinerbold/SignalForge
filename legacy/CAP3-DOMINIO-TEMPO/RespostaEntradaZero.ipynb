{
  "nbformat": 4,
  "nbformat_minor": 0,
  "metadata": {
    "colab": {
      "provenance": []
    },
    "kernelspec": {
      "name": "python3",
      "display_name": "Python 3"
    },
    "language_info": {
      "name": "python"
    }
  },
  "cells": [
    {
      "cell_type": "markdown",
      "source": [
        "Resposta a entrada zero"
      ],
      "metadata": {
        "id": "4S59my2dGFax"
      }
    },
    {
      "cell_type": "code",
      "source": [
        "import sympy as sp\n",
        "\n",
        "def resolver_resposta_entrada_zero(QN_coeffs, cond_iniciais):\n",
        "    t = sp.symbols('t')\n",
        "    y = sp.Function('y')(t)\n",
        "\n",
        "    # Definindo a equação diferencial QN(D)y(t) = 0\n",
        "    QN = sum(coeff * sp.Derivative(y, t, n) for n, coeff in enumerate(QN_coeffs))\n",
        "    equacao_homogenea = sp.Eq(QN, 0)\n",
        "\n",
        "    # Resolvendo a equação característica\n",
        "    lambda_ = sp.symbols('lambda')\n",
        "    equacao_caracteristica = sum(coeff * lambda_**n for n, coeff in enumerate(QN_coeffs))\n",
        "    raizes = sp.solve(equacao_caracteristica, lambda_)\n",
        "\n",
        "    # Montando a solução geral considerando multiplicidade de raízes\n",
        "    solucao_geral = 0\n",
        "    constantes = []\n",
        "    c_counter = 1\n",
        "\n",
        "    raizes_mult = sp.roots(equacao_caracteristica, lambda_)\n",
        "    for raiz, multiplicidade in raizes_mult.items():\n",
        "        for m in range(multiplicidade):\n",
        "            constante = sp.symbols(f'c{c_counter}')\n",
        "            constantes.append(constante)\n",
        "            solucao_geral += constante * t**m * sp.exp(raiz * t)\n",
        "            c_counter += 1\n",
        "\n",
        "    # Criando as condições iniciais\n",
        "    condicoes = []\n",
        "    for ordem, valor in enumerate(cond_iniciais):\n",
        "        condicoes.append(sp.Eq(solucao_geral.diff(t, ordem).subs(t, 0), valor))\n",
        "\n",
        "    # Resolvendo o sistema de equações para encontrar os valores de c1, c2, ...\n",
        "    sistema_equacoes = []\n",
        "    for cond in condicoes:\n",
        "        sistema_equacoes.append(cond.lhs - cond.rhs)\n",
        "\n",
        "    solucao_sistema = sp.solve(sistema_equacoes, constantes)\n",
        "\n",
        "    # Substituindo as constantes na solução geral\n",
        "    solucao_final = solucao_geral.subs(solucao_sistema)\n",
        "\n",
        "    return solucao_final\n",
        "\n",
        "# Exemplo de uso\n",
        "QN_coeffs = [9, 6, 1]  # Representa D^2 + 6D + 9\n",
        "cond_iniciais = [5, -2]  # y0(0) = 5, y0'(0) = -2\n",
        "\n",
        "resposta_entrada_zero = resolver_resposta_entrada_zero(QN_coeffs, cond_iniciais)\n",
        "print(resposta_entrada_zero)"
      ],
      "metadata": {
        "colab": {
          "base_uri": "https://localhost:8080/"
        },
        "id": "3ttce2TWGLwT",
        "outputId": "4f91d089-3db5-4f11-ee32-ea78132ab701"
      },
      "execution_count": 1,
      "outputs": [
        {
          "output_type": "stream",
          "name": "stdout",
          "text": [
            "13*t*exp(-3*t) + 5*exp(-3*t)\n"
          ]
        }
      ]
    }
  ]
}