{
  "nbformat": 4,
  "nbformat_minor": 0,
  "metadata": {
    "colab": {
      "provenance": []
    },
    "kernelspec": {
      "name": "python3",
      "display_name": "Python 3"
    },
    "language_info": {
      "name": "python"
    }
  },
  "cells": [
    {
      "cell_type": "markdown",
      "source": [
        "Resposta ao Impulso Unitário"
      ],
      "metadata": {
        "id": "F-4JUp_aHVsL"
      }
    },
    {
      "cell_type": "code",
      "source": [
        "import sympy as sp\n",
        "\n",
        "def resposta_ao_impulso(P_s, Q_s):\n",
        "    # Define as variáveis simbólicas para o tempo e a variável de Laplace\n",
        "    t = sp.symbols('t', real=True, positive=True)\n",
        "    s = sp.symbols('s')\n",
        "\n",
        "    # Calcula a função de transferência H_s\n",
        "    H_s = P_s / Q_s\n",
        "\n",
        "    # Calcula a resposta ao impulso h(t) pela transformada inversa de Laplace\n",
        "    h_t = sp.inverse_laplace_transform(H_s, s, t)\n",
        "\n",
        "    return h_t\n",
        "\n",
        "# Exemplo de uso:\n",
        "# Definindo os polinômios diferenciais P(s) e Q(s)\n",
        "# Por exemplo, Q(s) = s^2 + 7*s + 6 e P(s) = 2*s^2 + 1\n",
        "s = sp.symbols('s')\n",
        "Q_s = s**2 + 7*s + 6\n",
        "P_s = 2*s**2 + 1\n",
        "\n",
        "# Calculando a resposta ao impulso h_t\n",
        "h_t = resposta_ao_impulso(P_s, Q_s)\n",
        "\n",
        "# Calcula os graus dos polinômios P(s) e Q(s)\n",
        "grau_P = sp.degree(P_s, s)\n",
        "grau_Q = sp.degree(Q_s, s)\n",
        "\n",
        "# Verifica se o sistema é instantâneo (grau de P(s) == grau de Q(s)) e\n",
        "# Adiciona o termo (b_0 / a_0) * DiracDelta(t) à resposta\n",
        "if grau_P == grau_Q:\n",
        "\n",
        "    # Obtém os coeficientes líderes dos polinômios P(s) e Q(s)\n",
        "    b_0 = sp.LC(P_s, s)  # Coeficiente líder de P(s)\n",
        "    a_0 = sp.LC(Q_s, s)  # Coeficiente líder de Q(s)\n",
        "\n",
        "    # Exibindo a resposta ao impulso\n",
        "    print(f\"h(t) = {(b_0 / a_0)}*δ(t) + {h_t}\")\n",
        "\n",
        "else:\n",
        "  # Exibindo a resposta ao impulso\n",
        "  print(f\"h(t) = {h_t}\")"
      ],
      "metadata": {
        "colab": {
          "base_uri": "https://localhost:8080/"
        },
        "id": "qcV-NoUaHhIC",
        "outputId": "fe2dc4d1-72bc-45bd-cc29-f9e0a29857ac"
      },
      "execution_count": 1,
      "outputs": [
        {
          "output_type": "stream",
          "name": "stdout",
          "text": [
            "h(t) = 2*δ(t) + 3*exp(-t)/5 - 73*exp(-6*t)/5\n"
          ]
        }
      ]
    }
  ]
}