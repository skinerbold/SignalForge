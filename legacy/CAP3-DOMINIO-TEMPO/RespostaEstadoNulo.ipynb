{
  "nbformat": 4,
  "nbformat_minor": 0,
  "metadata": {
    "colab": {
      "provenance": []
    },
    "kernelspec": {
      "name": "python3",
      "display_name": "Python 3"
    },
    "language_info": {
      "name": "python"
    }
  },
  "cells": [
    {
      "cell_type": "markdown",
      "source": [
        "Resposta ao estado nulo"
      ],
      "metadata": {
        "id": "4rSz-7noIN_Q"
      }
    },
    {
      "cell_type": "code",
      "source": [
        "import sympy as sp\n",
        "\n",
        "# Definindo t como símbolo\n",
        "t, tau = sp.symbols('t tau')\n",
        "\n",
        "# Definindo as funções h(tau) e x(tau)\n",
        "h_tau = 3*sp.exp(-6*tau) + sp.exp(-tau)\n",
        "x_tau = sp.exp(tau)\n",
        "\n",
        "# Definindo a convolução y(t)\n",
        "convolution = sp.integrate(x_tau * h_tau.subs(tau, t - tau), (tau, 0, t))\n",
        "\n",
        "# Exibindo a equação y(t)\n",
        "print(\"y(t) = \", convolution.simplify())\n",
        "\n",
        "# Avaliando y(t) para t = 1\n",
        "t_value = 1\n",
        "y_value = convolution.subs(t, t_value)\n",
        "print(f\"y({t_value}) =\", y_value.evalf())"
      ],
      "metadata": {
        "colab": {
          "base_uri": "https://localhost:8080/"
        },
        "id": "V3TGXY7EITxp",
        "outputId": "04052dd9-0afd-459d-96f5-22056312d0ab"
      },
      "execution_count": null,
      "outputs": [
        {
          "output_type": "stream",
          "name": "stdout",
          "text": [
            "y(t) =  (13*exp(7*t) - 7*exp(5*t) - 6)*exp(-6*t)/14\n",
            "y(1) = 2.33911679776482\n"
          ]
        }
      ]
    }
  ]
}